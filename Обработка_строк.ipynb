{
  "nbformat": 4,
  "nbformat_minor": 0,
  "metadata": {
    "colab": {
      "provenance": []
    },
    "kernelspec": {
      "name": "python3",
      "display_name": "Python 3"
    },
    "language_info": {
      "name": "python"
    }
  },
  "cells": [
    {
      "cell_type": "code",
      "source": [
        "!git clone https://github.com/yakushinav/python_inf23.git"
      ],
      "metadata": {
        "colab": {
          "base_uri": "https://localhost:8080/"
        },
        "id": "LOEwz1GXCxAW",
        "outputId": "d11978d5-b0b7-4a51-fabd-7f656bdb3699"
      },
      "execution_count": null,
      "outputs": [
        {
          "output_type": "stream",
          "name": "stdout",
          "text": [
            "Cloning into 'python_inf23'...\n",
            "remote: Enumerating objects: 20, done.\u001b[K\n",
            "remote: Counting objects: 100% (20/20), done.\u001b[K\n",
            "remote: Compressing objects: 100% (19/19), done.\u001b[K\n",
            "remote: Total 20 (delta 4), reused 0 (delta 0), pack-reused 0\u001b[K\n",
            "Receiving objects: 100% (20/20), 2.16 MiB | 3.28 MiB/s, done.\n",
            "Resolving deltas: 100% (4/4), done.\n"
          ]
        }
      ]
    },
    {
      "cell_type": "markdown",
      "source": [
        "## Задача 1\n",
        "\n",
        "Текстовый файл состоит из символов T, U, V, W, X, Y и Z.\n",
        "Определите в прилагаемом файле максимальное количество идущих подряд\n",
        "символов (длину непрерывной подпоследовательности), среди которых\n",
        "символ T встречается ровно 100 раз.\n",
        "Для выполнения этого задания следует написать программу."
      ],
      "metadata": {
        "id": "NjCqZBGzCK0p"
      }
    },
    {
      "cell_type": "code",
      "source": [
        "f=open(\"python_inf23/24_2024.txt\", 'r')\n",
        "s = f.readline()\n",
        "s = 'T' + s + 'T'\n",
        "\n",
        "s=s.strip().split('T')\n",
        "\n",
        "mx = 0\n",
        "for i in range(len(s) - 100):\n",
        "    c = 'T'.join(s[i:i + 101])\n",
        "    mx = max(mx, len(c))\n",
        "print(mx)\n",
        "\n"
      ],
      "metadata": {
        "colab": {
          "base_uri": "https://localhost:8080/"
        },
        "id": "7FPt965hCgFX",
        "outputId": "e059b426-ede2-4db8-ad63-6da03ca0945e"
      },
      "execution_count": null,
      "outputs": [
        {
          "output_type": "stream",
          "name": "stdout",
          "text": [
            "133\n"
          ]
        }
      ]
    },
    {
      "cell_type": "markdown",
      "source": [
        "## (№ 3357)\n",
        "\n",
        " (В.Н. Шубинкин) Текстовый файл 24-4.txt содержит последовательность из строчных и заглавных букв английского алфавита и цифр, всего не более 106 символов. Убывающей подпоследовательностью будем называть непрерывную последовательность символов, расположенных в порядке уменьшения их номера в кодовой таблице символов ASCII. Определите длину наибольшей убывающей подпоследовательности."
      ],
      "metadata": {
        "id": "a7jIHnw5DKmp"
      }
    },
    {
      "cell_type": "code",
      "source": [
        "f=open(\"python_inf23/24-4.txt\", 'r')\n",
        "s = f.readline()\n",
        "\n",
        "mx=0\n",
        "dx=0\n",
        "for k in range(len(s)-1):\n",
        "  if s[k]>=s[k+1]:\n",
        "    dx=dx+1\n",
        "  else:\n",
        "    if dx>mx:\n",
        "      mx=dx\n",
        "    dx=0\n",
        "\n",
        "if dx>mx:\n",
        "      mx=dx\n",
        "\n",
        "print(mx)\n"
      ],
      "metadata": {
        "colab": {
          "base_uri": "https://localhost:8080/"
        },
        "id": "tFxUP2tjGKOB",
        "outputId": "b4963748-80e6-4739-b9ca-ac3ed6d6a3e2"
      },
      "execution_count": null,
      "outputs": [
        {
          "output_type": "stream",
          "name": "stdout",
          "text": [
            "8\n"
          ]
        }
      ]
    },
    {
      "cell_type": "markdown",
      "source": [
        "## (№ 5463)\n",
        "\n",
        "(Е. Джобс) Текстовый файл 24-223.txt содержит строку из символов A, B и C, всего не более чем $10^6$ символов. Найдите максимальную длину строки, состоящей только из комбинаций AB и СAС. Например, в строке BABABCACABCB такая подстрока ABABCACAB (длина 9)."
      ],
      "metadata": {
        "id": "E2_FYMQqDdtO"
      }
    },
    {
      "cell_type": "code",
      "source": [
        "import re\n",
        "\n",
        "f=open(\"python_inf23/24-223.txt\", 'r')\n",
        "s = f.readline()\n",
        "\n",
        "regex = r'(AB|CAC)+'\n",
        "\n",
        "matches = re.finditer(regex, s)\n",
        "\n",
        "mx=0\n",
        "for match in matches:\n",
        "  mx=max(mx,len(match[0]))\n",
        "\n",
        "print(mx)\n"
      ],
      "metadata": {
        "colab": {
          "base_uri": "https://localhost:8080/"
        },
        "id": "W048oncJDftV",
        "outputId": "3cb9806d-e4ea-45d0-98f0-394d9e0935d8"
      },
      "execution_count": null,
      "outputs": [
        {
          "output_type": "stream",
          "name": "stdout",
          "text": [
            "66\n"
          ]
        }
      ]
    },
    {
      "cell_type": "markdown",
      "source": [
        "## (№ 2557)\n",
        "\n",
        "Текстовый файл 24-s1.txt состоит не более чем из 106 заглавных латинских букв (A..Z). Текст разбит на строки различной длины. Определите количество строк, в которых встречается комбинация F*O, где звёздочка обозначает любой символ."
      ],
      "metadata": {
        "id": "ZLD16Bb6DzvC"
      }
    },
    {
      "cell_type": "code",
      "source": [
        "import re\n",
        "\n",
        "f=open(\"python_inf23/24-s1.txt\", 'r')\n",
        "s = f.readlines()\n",
        "\n",
        "regex = r\"F.O\"\n",
        "count =0\n",
        "for x in s:\n",
        "  if len(re.findall(regex,x.strip()))>0:\n",
        "    count=count+1\n",
        "\n",
        "print(count)\n",
        "\n"
      ],
      "metadata": {
        "colab": {
          "base_uri": "https://localhost:8080/"
        },
        "id": "mOZhSDFjD1j-",
        "outputId": "75a46af6-3aa0-4e59-e01c-fa14120f447b"
      },
      "execution_count": null,
      "outputs": [
        {
          "output_type": "stream",
          "name": "stdout",
          "text": [
            "757\n"
          ]
        }
      ]
    }
  ]
}