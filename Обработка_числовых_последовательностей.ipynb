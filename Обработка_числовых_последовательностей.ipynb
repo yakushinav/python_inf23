{
  "nbformat": 4,
  "nbformat_minor": 0,
  "metadata": {
    "colab": {
      "provenance": []
    },
    "kernelspec": {
      "name": "python3",
      "display_name": "Python 3"
    },
    "language_info": {
      "name": "python"
    }
  },
  "cells": [
    {
      "cell_type": "code",
      "source": [
        "!git clone https://github.com/yakushinav/python_inf23.git"
      ],
      "metadata": {
        "colab": {
          "base_uri": "https://localhost:8080/"
        },
        "id": "CUWKAEZCuegu",
        "outputId": "5b605630-b54f-4e54-91dd-5a7d520959c5"
      },
      "execution_count": 1,
      "outputs": [
        {
          "output_type": "stream",
          "name": "stdout",
          "text": [
            "Cloning into 'python_inf23'...\n",
            "remote: Enumerating objects: 14, done.\u001b[K\n",
            "remote: Counting objects: 100% (14/14), done.\u001b[K\n",
            "remote: Compressing objects: 100% (13/13), done.\u001b[K\n",
            "remote: Total 14 (delta 3), reused 0 (delta 0), pack-reused 0\u001b[K\n",
            "Receiving objects: 100% (14/14), 80.26 KiB | 2.29 MiB/s, done.\n",
            "Resolving deltas: 100% (3/3), done.\n"
          ]
        }
      ]
    },
    {
      "cell_type": "code",
      "source": [
        "!ls python_inf23"
      ],
      "metadata": {
        "colab": {
          "base_uri": "https://localhost:8080/"
        },
        "id": "LKgPA32Cu0DR",
        "outputId": "5a371e6c-42a7-4c3e-90ea-6cf7e0b628b7"
      },
      "execution_count": 2,
      "outputs": [
        {
          "output_type": "stream",
          "name": "stdout",
          "text": [
            "17_2024.txt  17-202.txt  17-243.txt  17-277.txt  17-332.txt  17-336.txt\n"
          ]
        }
      ]
    },
    {
      "cell_type": "markdown",
      "source": [
        "## Задача 1\n",
        "\n",
        "В файле содержится последовательность натуральных чисел, каждое из\n",
        "которых не превышает 100 000. Определите количество троек элементов\n",
        "последовательности, в которых ровно два из трёх элементов являются\n",
        "трёхзначными числами, а сумма элементов тройки не больше\n",
        "максимального элемента последовательности, оканчивающегося на 13.\n",
        "Гарантируется, что в последовательности есть хотя бы одно число,\n",
        "оканчивающееся на 13. В ответе запишите количество найденных троек\n",
        "чисел, затем максимальную из сумм элементов таких троек. В данной задаче\n",
        "под тройкой подразумевается три идущих подряд элемента\n",
        "последовательности.\n",
        "\n",
        "### Решение\n",
        "1. Нужно найти условный максимум\n",
        "2. Найти тройки: количество и максимум"
      ],
      "metadata": {
        "id": "IP99JzF6tD0-"
      }
    },
    {
      "cell_type": "code",
      "source": [
        "f=open(\"python_inf23/17_2024.txt\", 'r')\n",
        "lst = list(map(int,f.readlines()))"
      ],
      "metadata": {
        "id": "UFbK_0OytUW6"
      },
      "execution_count": 30,
      "outputs": []
    },
    {
      "cell_type": "code",
      "source": [
        "#Нужно найти условный максимум\n",
        "max_13 = max([x for x in lst if x%100==13])\n",
        "\n",
        "def cond(x):\n",
        "  return 99 < x <1000\n",
        "\n",
        "def check(lst,max_13):\n",
        "  s=sum(map(cond, lst))\n",
        "  return (s==2) and (sum(lst)<=max_13)\n",
        "\n",
        "#Найти тройки: количество и максимум\n",
        "\n",
        "res=[sum(lst[k:k+3]) for k in range(len(lst)-3) if check(lst[k:k+3],max_13)]\n",
        "print(len(res),max(res))"
      ],
      "metadata": {
        "colab": {
          "base_uri": "https://localhost:8080/"
        },
        "id": "nSDKLwKMvabd",
        "outputId": "afc3f77a-a3d4-454e-fdd0-397f72857b5d"
      },
      "execution_count": 32,
      "outputs": [
        {
          "output_type": "stream",
          "name": "stdout",
          "text": [
            "959 97471\n"
          ]
        }
      ]
    },
    {
      "cell_type": "markdown",
      "source": [
        "# (№ 4422)\n",
        "\n",
        "(П. Финкель) В файле 17-202.txt содержится последовательность целых чисел, которые принимают значения от -10000 до 10000 включительно. Тройка идущих подряд чисел последовательности называется уникальной, если только второе из них является положительным трёхзначным числом, заканчивающимся на 12. Определите количество уникальных троек чисел, а затем – максимальную из всех сумм таких троек."
      ],
      "metadata": {
        "id": "HNj8JN9n0VRE"
      }
    },
    {
      "cell_type": "code",
      "source": [
        "f=open(\"python_inf23/17-202.txt\", 'r')\n",
        "lst = list(map(int,f.readlines()))"
      ],
      "metadata": {
        "id": "UE8QVanB0l85"
      },
      "execution_count": 4,
      "outputs": []
    },
    {
      "cell_type": "code",
      "source": [
        "def check(lst):\n",
        "  x=lst[1]\n",
        "  return x>0 and (99<x<1000) and (x%100==12)\n",
        "\n",
        "#Найти количество и максимум\n",
        "\n",
        "res=[sum(lst[k:k+3]) for k in range(len(lst)-3) if check(lst[k:k+3])]\n",
        "print(len(res),max(res))"
      ],
      "metadata": {
        "colab": {
          "base_uri": "https://localhost:8080/"
        },
        "id": "2ADKqySS09NH",
        "outputId": "cf5be734-407e-4c7a-f9e2-55bd4484f5b2"
      },
      "execution_count": 5,
      "outputs": [
        {
          "output_type": "stream",
          "name": "stdout",
          "text": [
            "2 4961\n"
          ]
        }
      ]
    },
    {
      "cell_type": "markdown",
      "source": [
        "#(№ 5285)\n",
        "\n",
        "(И. Кушнир) В файле 17-336.txt содержится последовательность целых чисел. Элементы последовательности могут принимать целые значения от 1 до 100 000 включительно. Обозначим через M минимальный элемент последовательности, кратный 8, но не равный 8. Определите количество пар элементов последовательности, в которых оба числа делятся на M. Гарантируется, что такая пара в последовательности есть. В ответе запишите количество найденных пар, затем максимальное из чисел в такой паре с минимальной суммой элементов. Если пар с минимальной суммой элементов несколько, то следует выбрать максимальное число из первой подходящей пары. В данной задаче под парой подразумевается два идущих подряд элемента последовательности."
      ],
      "metadata": {
        "id": "pE0mX2PK1kH9"
      }
    },
    {
      "cell_type": "code",
      "source": [
        "f=open(\"python_inf23/17-336.txt\", 'r')\n",
        "lst = list(map(int,f.readlines()))"
      ],
      "metadata": {
        "id": "vxkTEDMQ1yKN"
      },
      "execution_count": 7,
      "outputs": []
    },
    {
      "cell_type": "code",
      "source": [
        "#Нужно найти условный минимум\n",
        "max_8 = min([x for x in lst if x%8==0 and x!=8])\n",
        "\n",
        "def check(lst,m):\n",
        "  return lst[0]%m==0 and lst[1]%m==0\n",
        "\n",
        "lst1=[sum(lst[k:k+2]) for k in range(len(lst)-2) if check(lst[k:k+2],max_8)]\n",
        "lst2=[max(lst[k:k+2]) for k in range(len(lst)-2) if check(lst[k:k+2],max_8)]\n",
        "\n",
        "a1=len(lst1)\n",
        "m1=lst1.index(min(lst1))\n",
        "\n",
        "print(a1,lst2[m1])\n"
      ],
      "metadata": {
        "colab": {
          "base_uri": "https://localhost:8080/"
        },
        "id": "6EBz11Pg2Rm5",
        "outputId": "54b9a5ad-a570-495b-cea2-afea4ef4c6ed"
      },
      "execution_count": 12,
      "outputs": [
        {
          "output_type": "stream",
          "name": "stdout",
          "text": [
            "3 74280\n"
          ]
        }
      ]
    },
    {
      "cell_type": "markdown",
      "source": [
        "# (№ 5016)\n",
        "\n",
        "(П. Волгин) В файле 17-277.txt содержится последовательность целых чисел. Элементы последовательности могут принимать целые значения от -1000 до 1000. Определите сначала количество пар чисел, в которых хотя бы один из элементов пары больше, чем сумма всех цифр «2» в троичной записи из модулей всех чисел в файле, кратных 60, а затем максимальную из сумм таких пар. Под парой подразумевается два идущих подряд элемента последовательности."
      ],
      "metadata": {
        "id": "uAo82SSP4JYT"
      }
    },
    {
      "cell_type": "code",
      "source": [
        "f=open(\"python_inf23/17-277.txt\", 'r')\n",
        "lst = list(map(int,f.readlines()))"
      ],
      "metadata": {
        "colab": {
          "base_uri": "https://localhost:8080/"
        },
        "id": "vfeNy_DH4YTy",
        "outputId": "2e456272-c3cc-4f08-9771-f5d9e598cdb7"
      },
      "execution_count": 9,
      "outputs": [
        {
          "output_type": "stream",
          "name": "stdout",
          "text": [
            "[610, -435, 245, -234, 965, 660, -426, -12, -728, 340, 203, 866, -333, -548, 729, 13, -10, 218, 237, 731, -204, -476, 301, -376, 419, -94, 941, 682, -195, -756, 305, -100, -705, 765, -146, -850, 821, 282, 130, 697, 984, 925, 168, 443, -969, 551, -355, 748, -901, -317, 762, 867, -604, -981, -676, -280, 429, -791, -1, 790, -893, 570, 886, 321, 982, -176, -675, 4, 334, 150, -125, 874, -372, -473, 448, 988, 558, -808, 840, -570, -335, 82, -445, 525, -902, -276, -421, 678, 87, -96, 754, 710, 643, 403, 53, -931, -128, -545, 632, -902]\n"
          ]
        }
      ]
    },
    {
      "cell_type": "code",
      "source": [
        "def count_2 (x):\n",
        "  res=0\n",
        "  while x>0:\n",
        "    t=x%3\n",
        "    res=res+int(t==2)\n",
        "    x=x//3\n",
        "  return res\n",
        "\n",
        "m=2*sum([count_2(abs(x)) for x in lst if abs(x)%60==0])\n",
        "\n",
        "def check(lst,m):\n",
        "  return lst[0]>m or lst[1]>m\n",
        "\n",
        "#Найти количество и максимум\n",
        "\n",
        "res=[sum(lst[k:k+2]) for k in range(len(lst)-2) if check(lst[k:k+2],m)]\n",
        "print(len(res),max(res))"
      ],
      "metadata": {
        "colab": {
          "base_uri": "https://localhost:8080/"
        },
        "id": "rZJu70pm5Mgc",
        "outputId": "9c5f932c-989c-46bc-9a4d-40308b59c64c"
      },
      "execution_count": 15,
      "outputs": [
        {
          "output_type": "stream",
          "name": "stdout",
          "text": [
            "78 1909\n"
          ]
        }
      ]
    },
    {
      "cell_type": "markdown",
      "source": [
        "## (№ 5260)\n",
        "\n",
        "(Е. Джобс) В файле 17-332.txt содержится последовательность целых чисел. Элементы последовательности – четырёхзначные натуральные числа. Найдите все тройки элементов последовательности, в которых первое и последнее число тройки имеют одинаковую сумму цифр, а среднее число тройки меньше, чем среднее арифметическое всех чисел в файле, кратных 17. В ответе запишите количество найденных троек, затем самую часто встречающуюся сумму разрядов среди средних чисел таких троек. В данной задаче под тройкой подразумевается три идущих подряд элемента последовательности."
      ],
      "metadata": {
        "id": "XkwXpYfN4Y2a"
      }
    },
    {
      "cell_type": "code",
      "source": [
        "f=open(\"python_inf23/17-332.txt\", 'r')\n",
        "lst = list(map(int,f.readlines()))"
      ],
      "metadata": {
        "id": "MSUvLWY2404i"
      },
      "execution_count": 27,
      "outputs": []
    },
    {
      "cell_type": "code",
      "source": [
        "def sum_d(x):\n",
        "  return sum(list(map(int,list(str(x).strip()))))\n",
        "\n",
        "l=[x for x in lst if x%17==0]\n",
        "sr_17 = sum(l)/len(l)\n",
        "\n",
        "def check(lst,m):\n",
        "  return sum_d(lst[0])==sum_d(lst[2]) and lst[1]<m\n",
        "\n",
        "\n",
        "res=[sum_d(lst[k+1]) for k in range(len(lst)-3) if check(lst[k:k+3],sr_17)]\n",
        "print(len(res),max(set(res), key=res.count))\n"
      ],
      "metadata": {
        "colab": {
          "base_uri": "https://localhost:8080/"
        },
        "id": "LRZcG8e07vr0",
        "outputId": "9e93473a-dabb-4001-e9ad-50f060b5ff9d"
      },
      "execution_count": 31,
      "outputs": [
        {
          "output_type": "stream",
          "name": "stdout",
          "text": [
            "257 19\n"
          ]
        }
      ]
    },
    {
      "cell_type": "markdown",
      "source": [
        "## (№ 4698)\n",
        "В файле 17-243.txt содержится последовательность целых чисел. Элементы последовательности могут принимать целые значения от 0 до 10 000 включительно. Определите количество пар чисел, в которых хотя бы один из двух элементов больше, чем наибольшее из всех чисел в файле, делящихся на 127, и в восьмеричной записи хотя бы одного элемента из двух содержится цепочка цифр 31. В ответе запишите два числа: сначала количество найденных пар, а затем – минимальную сумму элементов таких пар. В данной задаче под парой подразумевается два идущих подряд элемента последовательности."
      ],
      "metadata": {
        "id": "mZUyDUNw41VA"
      }
    },
    {
      "cell_type": "code",
      "source": [
        "f=open(\"python_inf23/17-243.txt\", 'r')\n",
        "lst = list(map(int,f.readlines()))"
      ],
      "metadata": {
        "id": "BiespjMQ43tj"
      },
      "execution_count": 40,
      "outputs": []
    },
    {
      "cell_type": "code",
      "source": [
        "max_127 = max([x for x in lst if x%127==0])\n",
        "\n",
        "def check(lst,m):\n",
        "  return (lst[0]>m or lst[1]>m) and ('31' in oct(lst[0]) or '31' in oct(lst[1]))\n",
        "\n",
        "#Найти количество и максимум\n",
        "\n",
        "res=[sum(lst[k:k+2]) for k in range(len(lst)-2) if check(lst[k:k+2],max_127)]\n",
        "print(len(res),min(res))"
      ],
      "metadata": {
        "colab": {
          "base_uri": "https://localhost:8080/"
        },
        "id": "hD4-BFbBAJae",
        "outputId": "78f74227-d298-4a40-b666-7ab6e48834a6"
      },
      "execution_count": 42,
      "outputs": [
        {
          "output_type": "stream",
          "name": "stdout",
          "text": [
            "28 11146\n"
          ]
        }
      ]
    }
  ]
}