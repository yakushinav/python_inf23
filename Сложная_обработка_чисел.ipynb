{
  "nbformat": 4,
  "nbformat_minor": 0,
  "metadata": {
    "colab": {
      "provenance": []
    },
    "kernelspec": {
      "name": "python3",
      "display_name": "Python 3"
    },
    "language_info": {
      "name": "python"
    }
  },
  "cells": [
    {
      "cell_type": "code",
      "execution_count": null,
      "metadata": {
        "id": "iZNZbqYiOWiM"
      },
      "outputs": [],
      "source": []
    },
    {
      "cell_type": "markdown",
      "source": [
        "## Задача 1\n",
        "\n",
        "Назовём маской числа последовательность цифр, в которой также могут\n",
        "встречаться следующие символы:\n",
        "\n",
        "- символ «?» означает ровно одну произвольную цифру;\n",
        "- символ «&» означает любую последовательность цифр произвольной\n",
        "длины; в том числе «*» может задавать и пустую последовательность.\n",
        "\n",
        "Например, маске 123&4?5 соответствуют числа 123405 и 12300405.\n",
        "Среди натуральных чисел, не превышающих $10^{10}$, найдите все числа,\n",
        "соответствующие маске 1?2157&4, делящиеся на 2024 без остатка.\n",
        "В ответе запишите в первом столбце таблицы все найденные числа\n",
        "в порядке возрастания, а во втором столбце – соответствующие им\n",
        "результаты деления этих чисел на 2024.\n",
        "Количество строк в таблице для ответа избыточно."
      ],
      "metadata": {
        "id": "KqoAVjlkOa9d"
      }
    },
    {
      "cell_type": "code",
      "source": [
        "import re\n",
        "\n",
        "m=1021574\n",
        "\n",
        "start=(m//2024+1)*2024\n",
        "end=10**10\n",
        "\n",
        "regexp=r\"^1.2157.*4$\"\n",
        "\n",
        "for k in range(start, end+1,2024):\n",
        "  s=str(k)\n",
        "  if re.match(regexp,s):\n",
        "      print(k,k//2024)"
      ],
      "metadata": {
        "colab": {
          "base_uri": "https://localhost:8080/"
        },
        "id": "205AUhEdOdx4",
        "outputId": "eeed8570-e1fa-4ba3-8f1f-75ac326d0c2c"
      },
      "execution_count": 15,
      "outputs": [
        {
          "output_type": "stream",
          "name": "stdout",
          "text": [
            "142157664 70236\n",
            "1021575544 504731\n",
            "1121571264 554136\n",
            "1221577104 603546\n",
            "1321572824 652951\n",
            "1421578664 702361\n",
            "1521574384 751766\n",
            "1621570104 801171\n",
            "1721575944 850581\n",
            "1821571664 899986\n",
            "1921577504 949396\n"
          ]
        }
      ]
    },
    {
      "cell_type": "markdown",
      "source": [
        "## (№ 4117)\n",
        "\n",
        "(А. Кабанов) Обозначим через M разность максимального и минимального натуральных делителей целого числа, не считая единицы и самого числа. Если таких делителей у числа нет, то считаем значение M равным нулю. Напишите программу, которая перебирает целые числа, большие 350000, в порядке возрастания и ищет среди них такие, для которых значение M при делении на 23 даёт в остатке 9. Запишите первые 6 найденных чисел в порядке возрастания, справа от каждого числа запишите соответствующее значение M."
      ],
      "metadata": {
        "id": "Cc5r22y_TH0i"
      }
    },
    {
      "cell_type": "code",
      "source": [
        "def check(n):\n",
        "  k=2\n",
        "  d=0\n",
        "  while (k*k<n and d==0):\n",
        "    if n%k==0:\n",
        "      d=k\n",
        "    else:\n",
        "      k=k+1\n",
        "  if d>0:\n",
        "    return n//d-d\n",
        "  else:\n",
        "    return 0\n",
        "\n",
        "count = 0\n",
        "n=350000\n",
        "while (count<6):\n",
        "  m=check(n)\n",
        "  if m%23==9:\n",
        "    print(n,m)\n",
        "    count=count+1\n",
        "  n=n+1\n",
        "\n",
        "\n"
      ],
      "metadata": {
        "colab": {
          "base_uri": "https://localhost:8080/"
        },
        "id": "s1Lfhzu-TNTd",
        "outputId": "27b6f4c8-364f-449a-fe06-863e674522ce"
      },
      "execution_count": 19,
      "outputs": [
        {
          "output_type": "stream",
          "name": "stdout",
          "text": [
            "350015 69998\n",
            "350017 8496\n",
            "350036 175016\n",
            "350073 116688\n",
            "350082 175039\n",
            "350128 175062\n"
          ]
        }
      ]
    },
    {
      "cell_type": "markdown",
      "source": [
        "## (№ 2562)\n",
        "\n",
        "(Демовариант 2021 г.). Напишите программу, которая ищет среди целых чисел, принадлежащих числовому отрезку [174457; 174505], числа, имеющие ровно два различных натуральных делителя, не считая единицы и самого числа. Для каждого найденного числа запишите эти два делителя в таблицу на экране с новой строки в порядке возрастания произведения этих двух делителей. Делители в строке таблицы также должны следовать в порядке возрастания."
      ],
      "metadata": {
        "id": "fuqQrdQnTVqw"
      }
    },
    {
      "cell_type": "code",
      "source": [
        "def check(n,md):\n",
        "  k=2\n",
        "  d=0\n",
        "  res=[]\n",
        "  while (k*k<=n and d<md+1):\n",
        "    if n%k==0:\n",
        "      if n//k!=k:\n",
        "        d=d+2\n",
        "        res=res+[k,n//k]\n",
        "      else:\n",
        "        d=d+1\n",
        "        res=res+[k]\n",
        "    k=k+1\n",
        "  if d==md:\n",
        "    return True,res\n",
        "  else:\n",
        "    return False,[]\n",
        "\n",
        "for k in range(174457, 174506):\n",
        "  t,res=check(k,2)\n",
        "  if t:\n",
        "    print(res)\n",
        "\n",
        "\n",
        "\n",
        ""
      ],
      "metadata": {
        "colab": {
          "base_uri": "https://localhost:8080/"
        },
        "id": "COVucA-QTjGV",
        "outputId": "0e10af82-c81a-4eb7-902d-27c0280948e7"
      },
      "execution_count": 34,
      "outputs": [
        {
          "output_type": "stream",
          "name": "stdout",
          "text": [
            "[3, 58153]\n",
            "[7, 24923]\n",
            "[59, 2957]\n",
            "[13, 13421]\n",
            "[149, 1171]\n",
            "[5, 34897]\n",
            "[211, 827]\n",
            "[2, 87251]\n"
          ]
        }
      ]
    },
    {
      "cell_type": "markdown",
      "source": [
        "## (№ 3437)\n",
        "\n",
        "(А. Рулин) Рассматривается множество целых чисел, принадлежащих числовому отрезку [862346; 1056242]. Найдите числа, нетривиальные делители которых образуют арифметическую прогрессию с разностью d = 100. В ответе для каждого такого числа (в порядке возрастания) запишите сначала само число, а потом – его максимальный нетривиальный делитель."
      ],
      "metadata": {
        "id": "5DxPu_DSTiTY"
      }
    },
    {
      "cell_type": "code",
      "source": [
        "def check(n):\n",
        "  k=2\n",
        "  res=[]\n",
        "  while (k*k<=n):\n",
        "    if n%k==0:\n",
        "      if n//k!=k:\n",
        "        res=res+[k,n//k]\n",
        "      else:\n",
        "        res=res+[k]\n",
        "    k=k+1\n",
        "  res=sorted(res)\n",
        "  r=sum([int(res[i+1]-res[i]==100) for i in range(len(res)-1)])\n",
        "  if r+1==len(res) and len(res)>1:\n",
        "    return True,res[-1]\n",
        "  else:\n",
        "    return False,[]\n",
        "\n",
        "for k in range(862346,1056242):\n",
        "  r,res=check(k)\n",
        "  if r:\n",
        "    print(k,res)"
      ],
      "metadata": {
        "colab": {
          "base_uri": "https://localhost:8080/",
          "height": 419
        },
        "id": "fCkoOgWQTXIr",
        "outputId": "d8d8031a-9f5e-41b7-f473-6cfdd1648ca7"
      },
      "execution_count": 59,
      "outputs": [
        {
          "output_type": "stream",
          "name": "stdout",
          "text": [
            "867989 983\n",
            "936461 1019\n"
          ]
        },
        {
          "output_type": "error",
          "ename": "KeyboardInterrupt",
          "evalue": "ignored",
          "traceback": [
            "\u001b[0;31m---------------------------------------------------------------------------\u001b[0m",
            "\u001b[0;31mKeyboardInterrupt\u001b[0m                         Traceback (most recent call last)",
            "\u001b[0;32m<ipython-input-59-c534e9d780b6>\u001b[0m in \u001b[0;36m<cell line: 18>\u001b[0;34m()\u001b[0m\n\u001b[1;32m     17\u001b[0m \u001b[0;34m\u001b[0m\u001b[0m\n\u001b[1;32m     18\u001b[0m \u001b[0;32mfor\u001b[0m \u001b[0mk\u001b[0m \u001b[0;32min\u001b[0m \u001b[0mrange\u001b[0m\u001b[0;34m(\u001b[0m\u001b[0;36m862346\u001b[0m\u001b[0;34m,\u001b[0m\u001b[0;36m1056242\u001b[0m\u001b[0;34m)\u001b[0m\u001b[0;34m:\u001b[0m\u001b[0;34m\u001b[0m\u001b[0;34m\u001b[0m\u001b[0m\n\u001b[0;32m---> 19\u001b[0;31m   \u001b[0mr\u001b[0m\u001b[0;34m,\u001b[0m\u001b[0mres\u001b[0m\u001b[0;34m=\u001b[0m\u001b[0mcheck\u001b[0m\u001b[0;34m(\u001b[0m\u001b[0mk\u001b[0m\u001b[0;34m)\u001b[0m\u001b[0;34m\u001b[0m\u001b[0;34m\u001b[0m\u001b[0m\n\u001b[0m\u001b[1;32m     20\u001b[0m   \u001b[0;32mif\u001b[0m \u001b[0mr\u001b[0m\u001b[0;34m:\u001b[0m\u001b[0;34m\u001b[0m\u001b[0;34m\u001b[0m\u001b[0m\n\u001b[1;32m     21\u001b[0m     \u001b[0mprint\u001b[0m\u001b[0;34m(\u001b[0m\u001b[0mk\u001b[0m\u001b[0;34m,\u001b[0m\u001b[0mres\u001b[0m\u001b[0;34m)\u001b[0m\u001b[0;34m\u001b[0m\u001b[0;34m\u001b[0m\u001b[0m\n",
            "\u001b[0;32m<ipython-input-59-c534e9d780b6>\u001b[0m in \u001b[0;36mcheck\u001b[0;34m(n)\u001b[0m\n\u001b[1;32m      3\u001b[0m   \u001b[0mres\u001b[0m\u001b[0;34m=\u001b[0m\u001b[0;34m[\u001b[0m\u001b[0;34m]\u001b[0m\u001b[0;34m\u001b[0m\u001b[0;34m\u001b[0m\u001b[0m\n\u001b[1;32m      4\u001b[0m   \u001b[0;32mwhile\u001b[0m \u001b[0;34m(\u001b[0m\u001b[0mk\u001b[0m\u001b[0;34m*\u001b[0m\u001b[0mk\u001b[0m\u001b[0;34m<=\u001b[0m\u001b[0mn\u001b[0m\u001b[0;34m)\u001b[0m\u001b[0;34m:\u001b[0m\u001b[0;34m\u001b[0m\u001b[0;34m\u001b[0m\u001b[0m\n\u001b[0;32m----> 5\u001b[0;31m     \u001b[0;32mif\u001b[0m \u001b[0mn\u001b[0m\u001b[0;34m%\u001b[0m\u001b[0mk\u001b[0m\u001b[0;34m==\u001b[0m\u001b[0;36m0\u001b[0m\u001b[0;34m:\u001b[0m\u001b[0;34m\u001b[0m\u001b[0;34m\u001b[0m\u001b[0m\n\u001b[0m\u001b[1;32m      6\u001b[0m       \u001b[0;32mif\u001b[0m \u001b[0mn\u001b[0m\u001b[0;34m//\u001b[0m\u001b[0mk\u001b[0m\u001b[0;34m!=\u001b[0m\u001b[0mk\u001b[0m\u001b[0;34m:\u001b[0m\u001b[0;34m\u001b[0m\u001b[0;34m\u001b[0m\u001b[0m\n\u001b[1;32m      7\u001b[0m         \u001b[0mres\u001b[0m\u001b[0;34m=\u001b[0m\u001b[0mres\u001b[0m\u001b[0;34m+\u001b[0m\u001b[0;34m[\u001b[0m\u001b[0mk\u001b[0m\u001b[0;34m,\u001b[0m\u001b[0mn\u001b[0m\u001b[0;34m//\u001b[0m\u001b[0mk\u001b[0m\u001b[0;34m]\u001b[0m\u001b[0;34m\u001b[0m\u001b[0;34m\u001b[0m\u001b[0m\n",
            "\u001b[0;31mKeyboardInterrupt\u001b[0m: "
          ]
        }
      ]
    },
    {
      "cell_type": "markdown",
      "source": [
        "## (№ 3981)\n",
        "\n",
        " Найдите все натуральные числа, N, принадлежащие отрезку [100 000 000; 300 000 000], которые можно представить в виде N = $2^m7^n$, где m – чётное число, n – нечётное число. В ответе запишите все найденные числа в порядке возрастания, а справа от каждого числа – сумму m+n."
      ],
      "metadata": {
        "id": "pDkX6WpTTr-i"
      }
    },
    {
      "cell_type": "code",
      "source": [
        "#m=26\n",
        "#n=10\n",
        "mx=26\n",
        "nx=10\n",
        "res=[]\n",
        "for m in range(2,mx+1,2):\n",
        "  for n in range(1,nx+1,2):\n",
        "    z=2**m*7**n\n",
        "    if 100000000<z< 300000000:\n",
        "      res=res+[[z,m+n]]\n",
        "\n",
        "print(sorted(res))\n",
        ""
      ],
      "metadata": {
        "colab": {
          "base_uri": "https://localhost:8080/"
        },
        "id": "A1GiyVrkTtui",
        "outputId": "4feab952-8786-4550-e9bc-cfdfd5c445dc"
      },
      "execution_count": 105,
      "outputs": [
        {
          "output_type": "stream",
          "name": "stdout",
          "text": [
            "[[117440512, 25], [161414428, 11], [210827008, 15], [275365888, 19]]\n"
          ]
        }
      ]
    }
  ]
}